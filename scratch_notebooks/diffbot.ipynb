{
 "cells": [
  {
   "cell_type": "code",
   "execution_count": null,
   "metadata": {},
   "outputs": [],
   "source": [
    "%load_ext autoreload\n",
    "%autoreload 2"
   ]
  },
  {
   "cell_type": "code",
   "execution_count": null,
   "metadata": {},
   "outputs": [],
   "source": [
    "from llamabot import SimpleBot\n",
    "from llamabot.prompt_library.diffbot import diffbot, get_github_diff"
   ]
  },
  {
   "cell_type": "code",
   "execution_count": null,
   "metadata": {},
   "outputs": [],
   "source": [
    "url = \"https://github.com/pyjanitor-devs/pyjanitor/pull/1262\""
   ]
  },
  {
   "cell_type": "code",
   "execution_count": null,
   "metadata": {},
   "outputs": [],
   "source": [
    "from llamabot.prompt_library.diffbot import (\n",
    "    suggest_improvements,\n",
    "    diffbot,\n",
    ")\n",
    "\n",
    "\n",
    "diff = get_github_diff(\"https://github.com/pyjanitor-devs/pyjanitor/pull/1262\")\n",
    "print(diff)"
   ]
  },
  {
   "cell_type": "markdown",
   "metadata": {},
   "source": [
    "We will use StructuredBot to generate a structured commit message based on the diff."
   ]
  },
  {
   "cell_type": "code",
   "execution_count": null,
   "metadata": {},
   "outputs": [],
   "source": [
    "from pydantic import BaseModel, Field, model_validator\n",
    "from enum import Enum\n",
    "\n",
    "\n",
    "class CommitType(str, Enum):\n",
    "    fix = \"fix\"\n",
    "    feat = \"feat\"\n",
    "    build = \"build\"\n",
    "    chore = \"chore\"\n",
    "    ci = \"ci\"\n",
    "    docs = \"docs\"\n",
    "    style = \"style\"\n",
    "    refactor = \"refactor\"\n",
    "    perf = \"perf\"\n",
    "    test = \"test\"\n",
    "    other = \"other\"\n",
    "\n",
    "\n",
    "class DescriptionEntry(BaseModel):\n",
    "    txt: str = Field(\n",
    "        ...,\n",
    "        description=\"A single bullet point describing one major change in the commit.\",\n",
    "    )\n",
    "\n",
    "    @model_validator(mode=\"after\")\n",
    "    def validate_description(self, value):\n",
    "        if len(self.txt) > 79:\n",
    "            raise ValueError(\n",
    "                \"Description should be less than or equal to 79 characters.\"\n",
    "            )\n",
    "        return self\n",
    "\n",
    "\n",
    "class CommitMessage(BaseModel):\n",
    "    commit_type: CommitType = Field(\n",
    "        ...,\n",
    "        description=\"Type of change. Should usually be fix or feat. But others, based on the Angular convention, are allowed, such as build, chore, ci, docs, style, refactor, perf, test, and others.\",\n",
    "    )\n",
    "    scope: str = Field(\n",
    "        ...,\n",
    "        description=\"Scope of change. If commits are only in a single file, then scope should be the filename. If commits involve multiple files, then the scope should be one word that accurately describes the scope of changes.\",\n",
    "    )\n",
    "    description: str = Field(\n",
    "        ...,\n",
    "        description=\"A one line description of the changes, in <79 characters.\",\n",
    "    )\n",
    "\n",
    "    body: list[DescriptionEntry] = Field(\n",
    "        ...,\n",
    "        description=\"A list of description entries. Each description entry should have a single bullet point describing one major change in the commit. At most 6 entries.\",\n",
    "    )\n",
    "\n",
    "    breaking_change: bool = Field(\n",
    "        ..., description=\"Whether or not there is a breaking change in the commit. \"\n",
    "    )\n",
    "\n",
    "    footer: str = Field(\"\", description=\"An optional footer.\")\n",
    "\n",
    "    @model_validator(mode=\"after\")\n",
    "    def validate_scope(self):\n",
    "        if len(self.scope) > 0 and len(self.scope.split()) > 1:\n",
    "            raise ValueError(\"Scope should be one word.\")\n",
    "        return self\n",
    "\n",
    "    @model_validator(mode=\"after\")\n",
    "    def validate_body(self):\n",
    "        if len(self.body) > 6:\n",
    "            raise ValueError(\"Description entries should be no more than 6.\")\n",
    "        return self\n",
    "\n",
    "    def format(self) -> str:\n",
    "        return _fmt(self)\n",
    "\n",
    "\n",
    "@prompt\n",
    "def _fmt(cm):\n",
    "    \"\"\"{{ cm.commit_type.value }}({{ cm.scope }}){%if cm.breaking_change %}!{% else %}{% endif %}: {{ cm.description }}\n",
    "\n",
    "    {% for bullet in cm.body %}- {{ bullet.txt }}\n",
    "    {% endfor %}\n",
    "\n",
    "    {% if cm.footer %}{{ cm.footer }}{% endif %}\n",
    "    \"\"\""
   ]
  },
  {
   "cell_type": "code",
   "execution_count": null,
   "metadata": {},
   "outputs": [],
   "source": [
    "from llamabot import StructuredBot\n",
    "\n",
    "bot = StructuredBot(\n",
    "    system_prompt=\"You are an expert software developer who writes excellent and accurate commit messages. You are going to be given a diff as input, and you will generate a structured JSON output based on the pydantic model provided.\",\n",
    "    pydantic_model=CommitMessage,\n",
    "    model_name=\"groq/llama-3.1-70b-versatile\",\n",
    "    stream_target=\"none\",\n",
    ")\n",
    "\n",
    "result = bot(diff)"
   ]
  },
  {
   "cell_type": "code",
   "execution_count": null,
   "metadata": {},
   "outputs": [],
   "source": [
    "print(result.format())"
   ]
  },
  {
   "cell_type": "markdown",
   "metadata": {},
   "source": [
    "Old stuff below."
   ]
  },
  {
   "cell_type": "code",
   "execution_count": null,
   "metadata": {},
   "outputs": [],
   "source": [
    "@prompt\n",
    "def structured_commit_message(diff):\n",
    "    \"\"\"Please write a commit message for the following diff.\n",
    "\n",
    "    {{ diff }}\n",
    "\n",
    "    # noqa: DAR101\n",
    "\n",
    "    Use the Conventional Commits specification to write the diff.\n",
    "\n",
    "    Return it for me in JSON format:\n",
    "\n",
    "    {\n",
    "        \"type\": \"<type>\",\n",
    "        \"scope\": \"<scope>\",\n",
    "        \"description\": \"<description>\",\n",
    "        \"breaking_change\": \"<breaking_change>\",\n",
    "        \"body\": [\"<bullet point 1 no bullet>\", \"<bullet point 2 no bullet>\",...],\n",
    "        \"footer\": \"<footer>\"\n",
    "    }\n",
    "\n",
    "    The commit contains the following structural elements,\n",
    "    to communicate intent to the consumers of your library:\n",
    "\n",
    "    fix: a commit of the type fix patches a bug in your codebase\n",
    "        (this correlates with PATCH in Semantic Versioning).\n",
    "    feat: a commit of the type feat introduces a new feature to the codebase\n",
    "        (this correlates with MINOR in Semantic Versioning).\n",
    "    BREAKING CHANGE: a commit that has a footer BREAKING CHANGE:,\n",
    "        or appends a ! after the type/scope,\n",
    "        introduces a breaking API change\n",
    "        (correlating with MAJOR in Semantic Versioning).\n",
    "        A BREAKING CHANGE can be part of commits of any type.\n",
    "\n",
    "    types other than fix: and feat: are allowed,\n",
    "    for example @commitlint/config-conventional\n",
    "    (based on the Angular convention) recommends\n",
    "    build:, chore:, ci:, docs:, style:, refactor:, perf:, test:, and others.\n",
    "\n",
    "    footers other than BREAKING CHANGE: <description> may be provided\n",
    "    and follow a convention similar to git trailer format.\n",
    "\n",
    "    Additional types are not mandated by the Conventional Commits specification,\n",
    "    and have no implicit effect in Semantic Versioning\n",
    "    (unless they include a BREAKING CHANGE).\n",
    "    A scope may be provided to a commit's type,\n",
    "    to provide additional contextual information and is contained within parenthesis,\n",
    "    e.g., feat(parser): add ability to parse arrays.\n",
    "    Within the optional body section, prefer the use of bullet points.\n",
    "\n",
    "    Final instructions:\n",
    "\n",
    "    1. Do not fence the commit message with back-ticks or quotation marks.\n",
    "    2. Do not add any other text except the commit message itself.\n",
    "    3. Only write out the commit message.\n",
    "    \"\"\""
   ]
  },
  {
   "cell_type": "code",
   "execution_count": null,
   "metadata": {},
   "outputs": [],
   "source": [
    "from llamabot import SimpleBot\n",
    "\n",
    "\n",
    "bot = SimpleBot(\n",
    "    \"You are an expert Git user\",\n",
    "    json_mode=True,\n",
    ")\n",
    "response = bot(structured_commit_message(diff))"
   ]
  },
  {
   "cell_type": "code",
   "execution_count": null,
   "metadata": {},
   "outputs": [],
   "source": [
    "import json\n",
    "\n",
    "\n",
    "@prompt\n",
    "def rehydrate_commit_message(commit_json):\n",
    "    \"\"\"{{ commit_json[\"type\"] }}({{ commit_json[\"scope\"] }}): {{ commit_json[\"description\"] }}\n",
    "    {% for item in commit_json[\"body\"] %}\n",
    "    - {{ item }}{% endfor %}\n",
    "\n",
    "        {% if commit_json[\"footer\"] %}\n",
    "        {{ commit_json[\"footer\"] }}\n",
    "        {% endif %}\n",
    "    \"\"\"\n",
    "\n",
    "\n",
    "print(rehydrate_commit_message(json.loads(response.content)))"
   ]
  },
  {
   "cell_type": "code",
   "execution_count": null,
   "metadata": {},
   "outputs": [],
   "source": [
    "from llamabot import SimpleBot\n",
    "\n",
    "\n",
    "bot = SimpleBot(\"You are an expert Git user\", json_mode=True)\n",
    "response = bot(structured_commit_message(diff))"
   ]
  },
  {
   "cell_type": "code",
   "execution_count": null,
   "metadata": {},
   "outputs": [],
   "source": []
  },
  {
   "cell_type": "code",
   "execution_count": null,
   "metadata": {},
   "outputs": [],
   "source": [
    "# print(write_commit_message(diff))"
   ]
  },
  {
   "cell_type": "code",
   "execution_count": null,
   "metadata": {},
   "outputs": [],
   "source": [
    "bot = commitbot()\n",
    "bot(write_commit_message(diff))\n",
    "# diffbot(describe_advantages(diff))"
   ]
  },
  {
   "cell_type": "code",
   "execution_count": null,
   "metadata": {},
   "outputs": [],
   "source": [
    "diffbot(suggest_improvements(diff))"
   ]
  },
  {
   "cell_type": "code",
   "execution_count": null,
   "metadata": {},
   "outputs": [],
   "source": []
  },
  {
   "cell_type": "code",
   "execution_count": null,
   "metadata": {},
   "outputs": [],
   "source": []
  },
  {
   "cell_type": "code",
   "execution_count": null,
   "metadata": {},
   "outputs": [],
   "source": []
  },
  {
   "cell_type": "code",
   "execution_count": null,
   "metadata": {},
   "outputs": [],
   "source": []
  },
  {
   "cell_type": "code",
   "execution_count": null,
   "metadata": {},
   "outputs": [],
   "source": []
  },
  {
   "cell_type": "code",
   "execution_count": null,
   "metadata": {},
   "outputs": [],
   "source": []
  },
  {
   "cell_type": "code",
   "execution_count": null,
   "metadata": {},
   "outputs": [],
   "source": []
  },
  {
   "cell_type": "code",
   "execution_count": null,
   "metadata": {},
   "outputs": [],
   "source": [
    "asdfasdfadsf"
   ]
  }
 ],
 "metadata": {
  "kernelspec": {
   "display_name": "llamabot",
   "language": "python",
   "name": "python3"
  },
  "language_info": {
   "codemirror_mode": {
    "name": "ipython",
    "version": 3
   },
   "file_extension": ".py",
   "mimetype": "text/x-python",
   "name": "python",
   "nbconvert_exporter": "python",
   "pygments_lexer": "ipython3",
   "version": "3.11.9"
  }
 },
 "nbformat": 4,
 "nbformat_minor": 2
}
