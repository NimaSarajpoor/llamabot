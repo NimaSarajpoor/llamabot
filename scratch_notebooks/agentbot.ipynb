{
 "cells": [
  {
   "cell_type": "code",
   "execution_count": null,
   "metadata": {},
   "outputs": [],
   "source": [
    "%load_ext autoreload\n",
    "%autoreload 2"
   ]
  },
  {
   "cell_type": "code",
   "execution_count": null,
   "metadata": {},
   "outputs": [],
   "source": [
    "import llamabot as lmb\n",
    "from llamabot.bot.agentbot import search_internet\n",
    "\n",
    "\n",
    "agent = lmb.AgentBot(\n",
    "    model_name=\"gpt-4o\",\n",
    "    system_prompt=\"You are a helpful assistant.\",\n",
    "    functions=[search_internet],\n",
    ")\n",
    "\n",
    "\n",
    "agent(\"What was the last closing price of AAPL?\")"
   ]
  },
  {
   "cell_type": "code",
   "execution_count": null,
   "metadata": {},
   "outputs": [],
   "source": [
    "from llamabot.bot.agentbot import search_internet\n",
    "\n",
    "agent2 = lmb.AgentBot(\n",
    "    model_name=\"gpt-4o\",\n",
    "    system_prompt=\"You are a helpful assistant.\",\n",
    "    functions=[search_internet],\n",
    ")\n",
    "\n",
    "result = agent2(\"Summarize for me the latest news about Taylor Swift's new album.\")\n",
    "\n",
    "result"
   ]
  },
  {
   "cell_type": "code",
   "execution_count": null,
   "metadata": {},
   "outputs": [],
   "source": [
    "import llamabot as lmb\n",
    "\n",
    "\n",
    "# Define the tools\n",
    "@lmb.tool\n",
    "def calculate_total_with_tip(bill_amount: float, tip_rate: float) -> float:\n",
    "    if tip_rate < 0 or tip_rate > 1.0:\n",
    "        raise ValueError(\"Tip rate must be between 0 and 1.0\")\n",
    "    return bill_amount * (1 + tip_rate)\n",
    "\n",
    "\n",
    "@lmb.tool\n",
    "def split_bill(total_amount: float, num_people: int) -> float:\n",
    "    return total_amount / num_people\n",
    "\n",
    "\n",
    "# Create the bot\n",
    "bot = lmb.AgentBot(\n",
    "    system_prompt=lmb.system(\"You are my assistant with respect to restaurant bills.\"),\n",
    "    functions=[calculate_total_with_tip, split_bill],\n",
    "    model_name=\"gpt-4o\",\n",
    ")\n",
    "\n",
    "# Calculate total with tip\n",
    "calculate_total_only_prompt = (\n",
    "    \"My dinner was $2300 without tips. Calculate my total with an 18% tip.\"\n",
    ")\n",
    "response = bot(calculate_total_only_prompt)\n",
    "print(response.content)\n",
    "\n",
    "# Split the bill\n",
    "split_bill_only_prompt = (\n",
    "    \"My dinner was $2300 in total. Split the bill between 4 people.\"\n",
    ")\n",
    "response = bot(split_bill_only_prompt)\n",
    "print(response.content)"
   ]
  }
 ],
 "metadata": {
  "kernelspec": {
   "display_name": "default",
   "language": "python",
   "name": "python3"
  },
  "language_info": {
   "codemirror_mode": {
    "name": "ipython",
    "version": 3
   },
   "file_extension": ".py",
   "mimetype": "text/x-python",
   "name": "python",
   "nbconvert_exporter": "python",
   "pygments_lexer": "ipython3",
   "version": "3.12.7"
  }
 },
 "nbformat": 4,
 "nbformat_minor": 2
}
