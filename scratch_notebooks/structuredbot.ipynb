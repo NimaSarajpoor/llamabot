{
 "cells": [
  {
   "cell_type": "code",
   "execution_count": null,
   "metadata": {},
   "outputs": [],
   "source": [
    "%load_ext autoreload\n",
    "%autoreload 2"
   ]
  },
  {
   "cell_type": "code",
   "execution_count": null,
   "metadata": {},
   "outputs": [],
   "source": [
    "import llamabot as lmb\n",
    "from pydantic import BaseModel, Field\n",
    "\n",
    "\n",
    "class Person(BaseModel):\n",
    "    name: str = Field(..., description=\"The name of the person\")\n",
    "    age: int = Field(..., description=\"The age of the person\")\n",
    "\n",
    "\n",
    "bot = lmb.StructuredBot(\n",
    "    system_prompt=\"You are a helpful assistant.\",\n",
    "    pydantic_model=Person,\n",
    "    model_name=\"ollama_chat/llama3.2:3b\",\n",
    ")\n",
    "\n",
    "person = bot(\"Give me a person.\")"
   ]
  },
  {
   "cell_type": "code",
   "execution_count": null,
   "metadata": {},
   "outputs": [],
   "source": [
    "from litellm import completion\n",
    "from pydantic import BaseModel\n",
    "\n",
    "# add to env var\n",
    "messages = [{\"role\": \"user\", \"content\": \"List 5 important events in the XIX century\"}]\n",
    "\n",
    "\n",
    "class CalendarEvent(BaseModel):\n",
    "    name: str\n",
    "    date: str\n",
    "    participants: list[str]\n",
    "\n",
    "\n",
    "class EventsList(BaseModel):\n",
    "    events: list[CalendarEvent]\n",
    "\n",
    "\n",
    "resp = completion(\n",
    "    model=\"ollama_chat/llama3.2:3b\", messages=messages, response_format=EventsList\n",
    ")"
   ]
  },
  {
   "cell_type": "code",
   "execution_count": null,
   "metadata": {},
   "outputs": [],
   "source": [
    "import json\n",
    "\n",
    "print(EventsList(**json.loads(resp.choices[0].message.content)))"
   ]
  }
 ],
 "metadata": {
  "kernelspec": {
   "display_name": "notebooks",
   "language": "python",
   "name": "python3"
  },
  "language_info": {
   "codemirror_mode": {
    "name": "ipython",
    "version": 3
   },
   "file_extension": ".py",
   "mimetype": "text/x-python",
   "name": "python",
   "nbconvert_exporter": "python",
   "pygments_lexer": "ipython3",
   "version": "3.12.7"
  }
 },
 "nbformat": 4,
 "nbformat_minor": 2
}
